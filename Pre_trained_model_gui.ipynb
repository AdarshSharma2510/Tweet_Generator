{
 "cells": [
  {
   "cell_type": "code",
   "execution_count": null,
   "id": "60208623",
   "metadata": {},
   "outputs": [],
   "source": [
    "%pip install ollama"
   ]
  },
  {
   "cell_type": "code",
   "execution_count": 3,
   "id": "d702bf58",
   "metadata": {},
   "outputs": [
    {
     "name": "stdout",
     "output_type": "stream",
     "text": [
      "* Running on local URL:  http://127.0.0.1:7863\n",
      "* To create a public link, set `share=True` in `launch()`.\n"
     ]
    },
    {
     "data": {
      "text/html": [
       "<div><iframe src=\"http://127.0.0.1:7863/\" width=\"100%\" height=\"500\" allow=\"autoplay; camera; microphone; clipboard-read; clipboard-write;\" frameborder=\"0\" allowfullscreen></iframe></div>"
      ],
      "text/plain": [
       "<IPython.core.display.HTML object>"
      ]
     },
     "metadata": {},
     "output_type": "display_data"
    },
    {
     "data": {
      "text/plain": []
     },
     "execution_count": 3,
     "metadata": {},
     "output_type": "execute_result"
    }
   ],
   "source": [
    "import gradio as gr\n",
    "import ollama\n",
    "\n",
    "MODEL_NAME = r\"hf.co/bartowski/Llama-3.2-1B-Instruct-GGUF\"\n",
    "\n",
    "def generate_tweet(prompt, max_tokens, temperature):\n",
    "    response = ollama.generate(\n",
    "        model=MODEL_NAME,\n",
    "        prompt=prompt,\n",
    "        options={\n",
    "            \"num_predict\": int(max_tokens),\n",
    "            \"temperature\": float(temperature)\n",
    "        }\n",
    "    )\n",
    "    return response['response']\n",
    "\n",
    "with gr.Blocks() as demo:\n",
    "    gr.Markdown(\"# 📝 Ollama Tweet Generator\")\n",
    "    prompt = gr.Textbox(label=\"Enter your tweet prompt\", lines=2, placeholder=\"e.g. Write a tweet about a man going to church.\")\n",
    "    max_tokens = gr.Slider(20, 200, value=80, step=10, label=\"Max Tokens\")\n",
    "    temperature = gr.Slider(0.5, 1.5, value=0.9, step=0.05, label=\"Creativity (Temperature)\")\n",
    "    output = gr.Textbox(label=\"Generated Tweet\", lines=8)\n",
    "\n",
    "    generate_btn = gr.Button(\"Generate Tweet\")\n",
    "    generate_btn.click(\n",
    "        generate_tweet,\n",
    "        inputs=[prompt, max_tokens, temperature],\n",
    "        outputs=output\n",
    "    )\n",
    "\n",
    "demo.launch()"
   ]
  }
 ],
 "metadata": {
  "kernelspec": {
   "display_name": "Python 3",
   "language": "python",
   "name": "python3"
  },
  "language_info": {
   "codemirror_mode": {
    "name": "ipython",
    "version": 3
   },
   "file_extension": ".py",
   "mimetype": "text/x-python",
   "name": "python",
   "nbconvert_exporter": "python",
   "pygments_lexer": "ipython3",
   "version": "3.13.2"
  }
 },
 "nbformat": 4,
 "nbformat_minor": 5
}
