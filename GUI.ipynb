{
 "cells": [
  {
   "cell_type": "code",
   "execution_count": null,
   "id": "73260cd7",
   "metadata": {},
   "outputs": [],
   "source": [
    "%pip install gradio"
   ]
  },
  {
   "cell_type": "code",
   "execution_count": null,
   "id": "f2a6edd1",
   "metadata": {},
   "outputs": [],
   "source": [
    "\n",
    "\n",
    "import torch\n",
    "from transformers import AutoTokenizer, AutoModelForCausalLM\n",
    "import gradio as gr\n",
    "\n",
    "# Load your fine-tuned model and tokenizer\n",
    "model_path = \"./trained_model\"\n",
    "tokenizer = AutoTokenizer.from_pretrained(model_path)\n",
    "model = AutoModelForCausalLM.from_pretrained(model_path)\n",
    "model.eval()\n",
    "\n",
    "def generate_tweet(prompt, max_length=50):\n",
    "    device = \"cuda\" if torch.cuda.is_available() else \"cpu\"\n",
    "    model.to(device)\n",
    "    inputs = tokenizer(prompt, return_tensors=\"pt\").to(device)\n",
    "    with torch.no_grad():\n",
    "        outputs = model.generate(\n",
    "            inputs.input_ids,\n",
    "            max_length=max_length,\n",
    "            do_sample=True,\n",
    "            top_k=50,\n",
    "            top_p=0.95,\n",
    "            temperature=0.7,\n",
    "            pad_token_id=tokenizer.pad_token_id\n",
    "        )\n",
    "    return tokenizer.decode(outputs[0], skip_special_tokens=True)\n",
    "\n",
    "tweet_interface = gr.Interface(\n",
    "    fn=generate_tweet,\n",
    "    inputs=[\n",
    "        gr.Textbox(lines=2, label=\"Prompt\", placeholder=\"Enter the start of your tweet...\"),\n",
    "        gr.Slider(20, 100, value=50, step=1, label=\"Max Length\")\n",
    "    ],\n",
    "    outputs=gr.Textbox(label=\"Generated Tweet\"),\n",
    "    title=\"AI Tweet Generator\",\n",
    "    description=\"Enter a prompt and let the fine-tuned GPT-2 model generate a tweet for you!\"\n",
    ")\n",
    "\n",
    "tweet_interface.launch()\n"
   ]
  }
 ],
 "metadata": {
  "kernelspec": {
   "display_name": "Python 3",
   "language": "python",
   "name": "python3"
  },
  "language_info": {
   "codemirror_mode": {
    "name": "ipython",
    "version": 3
   },
   "file_extension": ".py",
   "mimetype": "text/x-python",
   "name": "python",
   "nbconvert_exporter": "python",
   "pygments_lexer": "ipython3",
   "version": "3.13.2"
  }
 },
 "nbformat": 4,
 "nbformat_minor": 5
}
